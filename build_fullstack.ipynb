{
 "cells": [
  {
   "cell_type": "markdown",
   "metadata": {},
   "source": [
    "## 1. Make a simple web server"
   ]
  },
  {
   "cell_type": "code",
   "execution_count": null,
   "metadata": {
    "vscode": {
     "languageId": "plaintext"
    }
   },
   "outputs": [],
   "source": [
    "const handler = (req) => {\n",
    "  // Create a new response object\n",
    "  const body = new TextEncoder().encode(\"Hello World!\");\n",
    "  return new Response(body, { status: 200 });\n",
    "};"
   ]
  },
  {
   "cell_type": "code",
   "execution_count": null,
   "metadata": {
    "vscode": {
     "languageId": "plaintext"
    }
   },
   "outputs": [],
   "source": [
    "let server = Deno.serve({ port: 8001 }, handler);"
   ]
  },
  {
   "cell_type": "code",
   "execution_count": null,
   "metadata": {
    "vscode": {
     "languageId": "plaintext"
    }
   },
   "outputs": [],
   "source": [
    "const response = await fetch(\"http://localhost:8001\")"
   ]
  },
  {
   "cell_type": "code",
   "execution_count": null,
   "metadata": {
    "vscode": {
     "languageId": "plaintext"
    }
   },
   "outputs": [],
   "source": [
    "await response.text()"
   ]
  },
  {
   "cell_type": "code",
   "execution_count": null,
   "metadata": {
    "vscode": {
     "languageId": "plaintext"
    }
   },
   "outputs": [],
   "source": [
    "await server.shutdown()"
   ]
  },
  {
   "cell_type": "markdown",
   "metadata": {},
   "source": [
    "### Set up the documents, index and query engine"
   ]
  },
  {
   "cell_type": "code",
   "execution_count": null,
   "metadata": {
    "vscode": {
     "languageId": "plaintext"
    }
   },
   "outputs": [],
   "source": [
    "import * as mod from \"https://deno.land/std@0.213.0/dotenv/mod.ts\";\n",
    "import { \n",
    "    Document, \n",
    "    VectorStoreIndex, \n",
    "    SimpleDirectoryReader \n",
    "} from \"npm:llamaindex@0.1.8\"\n",
    "const keys = await mod.load({export:true}) // read API key from .env\n",
    "\n",
    "const documents = await new SimpleDirectoryReader().loadData({directoryPath: \"./data\"})\n",
    "const index = await VectorStoreIndex.fromDocuments(documents)\n",
    "const queryEngine = index.asQueryEngine()"
   ]
  },
  {
   "cell_type": "markdown",
   "metadata": {},
   "source": [
    "### Create a new handler\n",
    "\n",
    "This new handler will accept a query as input and respond from the query engine."
   ]
  },
  {
   "cell_type": "code",
   "execution_count": null,
   "metadata": {
    "vscode": {
     "languageId": "plaintext"
    }
   },
   "outputs": [],
   "source": [
    "const handler2 = async (req) => {\n",
    "    if(req.method == \"POST\") {\n",
    "        // we'll expect the incoming query to be a JSON object of the form {query: ...}\n",
    "        let data = await req.json()\n",
    "        let answer = await queryEngine.query({query: data.query})\n",
    "        // and our response will be a JSON object of the form {response: ...}\n",
    "        let responseObj = {\n",
    "            response: answer.toString()\n",
    "        }\n",
    "        return new Response(JSON.stringify(responseObj), { \n",
    "            status: 200\n",
    "        })\n",
    "    } else {\n",
    "        return new Response(\"Not found\", { status: 404 })\n",
    "    }\n",
    "}\n",
    "let server2 = Deno.serve( { port: 8002 }, handler2 )"
   ]
  },
  {
   "cell_type": "markdown",
   "metadata": {},
   "source": [
    "### Send a request to the server"
   ]
  },
  {
   "cell_type": "code",
   "execution_count": null,
   "metadata": {
    "vscode": {
     "languageId": "plaintext"
    }
   },
   "outputs": [],
   "source": [
    "let data = { query: \"How does the author feel about college?\" }"
   ]
  },
  {
   "cell_type": "code",
   "execution_count": null,
   "metadata": {
    "vscode": {
     "languageId": "plaintext"
    }
   },
   "outputs": [],
   "source": [
    "let response2 = await fetch(\"http://localhost:8002\", {\n",
    "  method: \"POST\",\n",
    "  headers: {\n",
    "    \"Content-Type\": \"application/json\"\n",
    "  },\n",
    "  body: JSON.stringify(data) // Convert the JavaScript object to a JSON string\n",
    "})"
   ]
  },
  {
   "cell_type": "code",
   "execution_count": null,
   "metadata": {
    "vscode": {
     "languageId": "plaintext"
    }
   },
   "outputs": [],
   "source": [
    "let responseObj = await response2.json()\n",
    "console.log(responseObj.response)"
   ]
  },
  {
   "cell_type": "markdown",
   "metadata": {},
   "source": [
    "### Shut down the server"
   ]
  },
  {
   "cell_type": "code",
   "execution_count": null,
   "metadata": {
    "vscode": {
     "languageId": "plaintext"
    }
   },
   "outputs": [],
   "source": [
    "await server2.shutdown()"
   ]
  },
  {
   "cell_type": "markdown",
   "metadata": {},
   "source": [
    "## 2. Make a web app!\n",
    "\n",
    "In this next section, we're going to use a development version of a web app, which is already setup for you.\n",
    "\n",
    "- Use the utility functions in **utils.ts** file. "
   ]
  },
  {
   "cell_type": "code",
   "execution_count": null,
   "metadata": {
    "vscode": {
     "languageId": "plaintext"
    }
   },
   "outputs": [],
   "source": [
    "import { runFrontend, runBackend, addToFrontend } from './utils.ts'"
   ]
  },
  {
   "cell_type": "code",
   "execution_count": null,
   "metadata": {
    "vscode": {
     "languageId": "plaintext"
    }
   },
   "outputs": [],
   "source": [
    "runFrontend()"
   ]
  },
  {
   "cell_type": "markdown",
   "metadata": {},
   "source": [
    "### Runa API server"
   ]
  },
  {
   "cell_type": "code",
   "execution_count": null,
   "metadata": {
    "vscode": {
     "languageId": "plaintext"
    }
   },
   "outputs": [],
   "source": [
    "runBackend()"
   ]
  },
  {
   "cell_type": "code",
   "execution_count": null,
   "metadata": {
    "vscode": {
     "languageId": "plaintext"
    }
   },
   "outputs": [],
   "source": [
    "// import-me: 1\n",
    "import React, { useState } from 'https://esm.sh/react@17.0.2';\n",
    "\n",
    "const Counter: React.FC = () => {\n",
    "  return (\n",
    "    <div>\n",
    "      <h1>Counter: 0</h1>\n",
    "      <button>Increment</button>\n",
    "    </div>\n",
    "  );\n",
    "};\n",
    "\n",
    "export default Counter;"
   ]
  },
  {
   "cell_type": "code",
   "execution_count": null,
   "metadata": {
    "vscode": {
     "languageId": "plaintext"
    }
   },
   "outputs": [],
   "source": [
    "await addToFrontend(\"1\")"
   ]
  },
  {
   "cell_type": "code",
   "execution_count": null,
   "metadata": {
    "vscode": {
     "languageId": "plaintext"
    }
   },
   "outputs": [],
   "source": [
    "// import-me: 2\n",
    "import React, { useState } from 'https://esm.sh/react@17.0.2';\n",
    "\n",
    "const Counter: React.FC = () => {\n",
    "  const count = 10\n",
    "\n",
    "  return (\n",
    "    <div>\n",
    "      <h1>Counter: {count}</h1>\n",
    "      <button>Increment</button>\n",
    "    </div>\n",
    "  );\n",
    "};\n",
    "\n",
    "export default Counter;"
   ]
  },
  {
   "cell_type": "code",
   "execution_count": null,
   "metadata": {
    "vscode": {
     "languageId": "plaintext"
    }
   },
   "outputs": [],
   "source": [
    "await addToFrontend(\"2\")"
   ]
  },
  {
   "cell_type": "code",
   "execution_count": null,
   "metadata": {
    "vscode": {
     "languageId": "plaintext"
    }
   },
   "outputs": [],
   "source": [
    "// import-me: 3\n",
    "import React, { useState } from 'https://esm.sh/react@17.0.2';\n",
    "\n",
    "const Counter: React.FC = () => {\n",
    "  const [count, setCount] = useState<number>(0);\n",
    "\n",
    "  const increment = () => {\n",
    "    let newCount = count+1\n",
    "    setCount(newCount);\n",
    "  };\n",
    "\n",
    "  return (\n",
    "    <div>\n",
    "      <h1>Counter: {count}</h1>\n",
    "      <button onClick={increment}>Increment</button>\n",
    "    </div>\n",
    "  );\n",
    "};\n",
    "\n",
    "export default Counter;"
   ]
  },
  {
   "cell_type": "code",
   "execution_count": null,
   "metadata": {
    "vscode": {
     "languageId": "plaintext"
    }
   },
   "outputs": [],
   "source": [
    "await addToFrontend(\"3\")"
   ]
  },
  {
   "cell_type": "code",
   "execution_count": null,
   "metadata": {
    "vscode": {
     "languageId": "plaintext"
    }
   },
   "outputs": [],
   "source": [
    "// import-me: 4\n",
    "import React, { useState } from 'https://esm.sh/react@17.0.2';\n",
    "\n",
    "const QuerySender: React.FC = () => {\n",
    "  return (\n",
    "    <div>\n",
    "      <h1>Ask a question</h1>\n",
    "      <form>\n",
    "        <input id=\"query\" type=\"text\"/>\n",
    "        <button type=\"submit\">Query</button>\n",
    "      </form>\n",
    "      <div id=\"answer\">Answer will go here</div>\n",
    "    </div>\n",
    "  );\n",
    "};\n",
    "\n",
    "export default QuerySender;"
   ]
  },
  {
   "cell_type": "code",
   "execution_count": null,
   "metadata": {
    "vscode": {
     "languageId": "plaintext"
    }
   },
   "outputs": [],
   "source": [
    "await addToFrontend(\"4\")"
   ]
  },
  {
   "cell_type": "code",
   "execution_count": null,
   "metadata": {
    "vscode": {
     "languageId": "plaintext"
    }
   },
   "outputs": [],
   "source": [
    "// import-me: 5\n",
    "import React, { useState } from 'https://esm.sh/react@17.0.2';\n",
    "\n",
    "const QuerySender: React.FC = () => {\n",
    "  const [query, setQuery] = useState<string>('');    \n",
    "\n",
    "  // Function to update the state with the input value\n",
    "  const handleChange = (e) => {\n",
    "    setQuery(e.target.value);\n",
    "  };\n",
    "    \n",
    "  return (\n",
    "    <div>\n",
    "      <h1>Ask a question</h1>\n",
    "      <form>\n",
    "        <input id=\"query\" type=\"text\" value={query} onChange={handleChange}/>\n",
    "        <button type=\"submit\">Query</button>\n",
    "      </form>\n",
    "      <div id=\"answer\">{query}</div>\n",
    "    </div>\n",
    "  );\n",
    "};\n",
    "\n",
    "export default QuerySender;"
   ]
  },
  {
   "cell_type": "code",
   "execution_count": null,
   "metadata": {
    "vscode": {
     "languageId": "plaintext"
    }
   },
   "outputs": [],
   "source": [
    "await addToFrontend(\"5\")"
   ]
  },
  {
   "cell_type": "code",
   "execution_count": null,
   "metadata": {
    "vscode": {
     "languageId": "plaintext"
    }
   },
   "outputs": [],
   "source": [
    "// import-me: 6\n",
    "import React, { useState } from 'https://esm.sh/react@17.0.2';\n",
    "\n",
    "const QuerySender: React.FC = () => {\n",
    "  const [query, setQuery] = useState<string>('');    \n",
    "  const [answer, setAnswer] = useState<string>('');\n",
    "\n",
    "  const handleSubmit = async (e) => {\n",
    "    e.preventDefault()\n",
    "    setAnswer(query + \" is the answer\");\n",
    "  }\n",
    "    \n",
    "  // Function to update the state with the input value\n",
    "  const handleChange = (e) => {\n",
    "    setQuery(e.target.value);\n",
    "  };\n",
    "    \n",
    "  return (\n",
    "    <div>\n",
    "      <h1>Ask a question</h1>\n",
    "      <form onSubmit={handleSubmit}>\n",
    "        <input id=\"query\" type=\"text\" value={query} onChange={handleChange}/>\n",
    "        <button type=\"submit\">Query</button>\n",
    "      </form>\n",
    "      <div id=\"answer\">{answer}</div>\n",
    "    </div>\n",
    "  );\n",
    "};\n",
    "\n",
    "export default QuerySender;"
   ]
  },
  {
   "cell_type": "code",
   "execution_count": null,
   "metadata": {
    "vscode": {
     "languageId": "plaintext"
    }
   },
   "outputs": [],
   "source": [
    "await addToFrontend(\"6\")"
   ]
  },
  {
   "cell_type": "code",
   "execution_count": null,
   "metadata": {
    "vscode": {
     "languageId": "plaintext"
    }
   },
   "outputs": [],
   "source": [
    "// import-me: 7\n",
    "import React, { useState } from 'https://esm.sh/react@17.0.2';\n",
    "\n",
    "const QuerySender: React.FC = () => {\n",
    "  const [query, setQuery] = useState<string>('');\n",
    "  const [answer, setAnswer] = useState<string>('');\n",
    "\n",
    "  const handleSubmit = async (e) => {\n",
    "    e.preventDefault()\n",
    "    setAnswer(\"Thinking...\")\n",
    "    const response = await fetch('http://localhost:8000', {\n",
    "      method: 'POST',\n",
    "      headers: {\n",
    "        'Content-Type': 'application/json',\n",
    "      },\n",
    "      body: JSON.stringify({ query }),\n",
    "    });\n",
    "    const data = await response.json();\n",
    "    console.log('Response from the server:', data);\n",
    "    setAnswer(data.response);\n",
    "  }\n",
    "\n",
    "  // Function to update the state with the input value\n",
    "  const handleChange = (e) => {\n",
    "    setQuery(e.target.value);\n",
    "  };  \n",
    "\n",
    "  return (\n",
    "    <div>\n",
    "      <h1>Ask a question</h1>\n",
    "      <form onSubmit={handleSubmit}>\n",
    "        <input id=\"query\" type=\"text\" value={query} onChange={handleChange} />\n",
    "        <button type=\"submit\">Query</button>\n",
    "      </form>\n",
    "      <div id=\"answer\">{answer}</div>\n",
    "    </div>\n",
    "  );\n",
    "};\n",
    "\n",
    "export default QuerySender;\n"
   ]
  },
  {
   "cell_type": "code",
   "execution_count": null,
   "metadata": {
    "vscode": {
     "languageId": "plaintext"
    }
   },
   "outputs": [],
   "source": [
    "await addToFrontend(\"7\")"
   ]
  }
 ],
 "metadata": {
  "language_info": {
   "name": "python"
  }
 },
 "nbformat": 4,
 "nbformat_minor": 2
}
